{
 "cells": [
  {
   "cell_type": "markdown",
   "id": "c4aab8c2",
   "metadata": {},
   "source": [
    "# Решето Эратосфена для разложения на множители"
   ]
  },
  {
   "cell_type": "markdown",
   "id": "ed32753a",
   "metadata": {},
   "source": [
    "метод позволяет найти все простые числа меньше заданного числа n"
   ]
  },
  {
   "cell_type": "markdown",
   "id": "94d6f8d0",
   "metadata": {},
   "source": [
    "## Часть 1 "
   ]
  },
  {
   "cell_type": "markdown",
   "id": "bbe374bf",
   "metadata": {},
   "source": [
    "посмотрим на массив, какие числа будут выброшены в результате работы программы"
   ]
  },
  {
   "cell_type": "code",
   "execution_count": 60,
   "id": "de021456",
   "metadata": {},
   "outputs": [],
   "source": [
    "def first_check(e, n):\n",
    "    return e[n]"
   ]
  },
  {
   "cell_type": "code",
   "execution_count": 61,
   "id": "833ee735",
   "metadata": {},
   "outputs": [],
   "source": [
    "def first_eratos(n):\n",
    "    e = [1 for i in range(n + 1)]  # забиваем генерируемый массив единицами\n",
    "    e[0] = 0  # в массиве в первом столбце 0\n",
    "    e[1] = 0  # в массиве во втором столбце 0\n",
    "    for i in range(2, n + 1):\n",
    "        print(e)  # принтим массив\n",
    "        if e[i]:\n",
    "            for j in range(2 * i, n + 1, i):  # 2 * i, чтобы не выбрасывать наше простое число\n",
    "                e[j] = 0\n",
    "        i += 1\n",
    "    return e"
   ]
  },
  {
   "cell_type": "code",
   "execution_count": 62,
   "id": "4e978380",
   "metadata": {},
   "outputs": [
    {
     "name": "stdout",
     "output_type": "stream",
     "text": [
      "[0, 0, 1, 1, 1, 1, 1, 1, 1, 1, 1, 1, 1, 1, 1, 1, 1]\n",
      "[0, 0, 1, 1, 0, 1, 0, 1, 0, 1, 0, 1, 0, 1, 0, 1, 0]\n",
      "[0, 0, 1, 1, 0, 1, 0, 1, 0, 0, 0, 1, 0, 1, 0, 0, 0]\n",
      "[0, 0, 1, 1, 0, 1, 0, 1, 0, 0, 0, 1, 0, 1, 0, 0, 0]\n",
      "[0, 0, 1, 1, 0, 1, 0, 1, 0, 0, 0, 1, 0, 1, 0, 0, 0]\n",
      "[0, 0, 1, 1, 0, 1, 0, 1, 0, 0, 0, 1, 0, 1, 0, 0, 0]\n",
      "[0, 0, 1, 1, 0, 1, 0, 1, 0, 0, 0, 1, 0, 1, 0, 0, 0]\n",
      "[0, 0, 1, 1, 0, 1, 0, 1, 0, 0, 0, 1, 0, 1, 0, 0, 0]\n",
      "[0, 0, 1, 1, 0, 1, 0, 1, 0, 0, 0, 1, 0, 1, 0, 0, 0]\n",
      "[0, 0, 1, 1, 0, 1, 0, 1, 0, 0, 0, 1, 0, 1, 0, 0, 0]\n",
      "[0, 0, 1, 1, 0, 1, 0, 1, 0, 0, 0, 1, 0, 1, 0, 0, 0]\n",
      "[0, 0, 1, 1, 0, 1, 0, 1, 0, 0, 0, 1, 0, 1, 0, 0, 0]\n",
      "[0, 0, 1, 1, 0, 1, 0, 1, 0, 0, 0, 1, 0, 1, 0, 0, 0]\n",
      "[0, 0, 1, 1, 0, 1, 0, 1, 0, 0, 0, 1, 0, 1, 0, 0, 0]\n",
      "[0, 0, 1, 1, 0, 1, 0, 1, 0, 0, 0, 1, 0, 1, 0, 0, 0]\n",
      "0\n"
     ]
    }
   ],
   "source": [
    "n = 16  # запустим для 16\n",
    "e = first_eratos(n)\n",
    "#print(e)\n",
    "x = 16\n",
    "print(first_check(e, x))"
   ]
  },
  {
   "cell_type": "markdown",
   "id": "65a396b8",
   "metadata": {},
   "source": [
    "Если смотреть по рядам, то когда мы перебрали кратные для двойки, то были выброшены 4 6 8 10 12 14 16, затем при переборе для тройки дополнительно выбросились 9, 15. Четверка (см по четвертой строке) не является простым, поэтому ничего не было выброшено и тд."
   ]
  },
  {
   "cell_type": "markdown",
   "id": "7cf176e6",
   "metadata": {},
   "source": [
    "#### Если делать это вручную:"
   ]
  },
  {
   "cell_type": "markdown",
   "id": "28cd71e6",
   "metadata": {},
   "source": [
    "- Запишем натуральные числа, начиная от 2, до 16 в ряд:\n",
    "2 3 4 5 6 7 8 9 10 11 12 13 14 15 16\n",
    "- Первое число в списке, 2 — простое. Пройдём по ряду чисел, удаляя все числа, кратные 2 (то есть, каждое второе, начиная с 16), тогда останется: \n",
    "2 3 5 7 8 9 11 13 15\n",
    "- и тд"
   ]
  },
  {
   "cell_type": "markdown",
   "id": "08a61458",
   "metadata": {},
   "source": [
    "## Часть 2"
   ]
  },
  {
   "cell_type": "markdown",
   "id": "c8a5cb1d",
   "metadata": {},
   "source": [
    "соединим функции"
   ]
  },
  {
   "cell_type": "code",
   "execution_count": 71,
   "id": "cd42bb8f",
   "metadata": {},
   "outputs": [],
   "source": [
    "def check(e, n):\n",
    "    k = []  # соберем делители в массив \n",
    "    while (n != 1):\n",
    "        k.append(e[n])  # возвращает е в позиции n\n",
    "        n //= e[n]  # деление нацело\n",
    "    return k"
   ]
  },
  {
   "cell_type": "code",
   "execution_count": 72,
   "id": "7e30245b",
   "metadata": {},
   "outputs": [],
   "source": [
    "def eratos(n):\n",
    "    e = [i for i in range(n + 1)]  # забиваем генерируемый массив единицами\n",
    "    e[0] = 1\n",
    "    e[1] = 1\n",
    "    i = 2\n",
    "# нет смысла перебирать числа больше корня из n+1\n",
    "# поскольку ближайшее число, которое им нужно погасить за пределом решета\n",
    "    while (i * i <= (n + 1)):\n",
    "        if e[i] == i:\n",
    "            for j in range(i * i, n + 1, i):  # 2 * i, чтобы не выбрасывать наше простое число\n",
    "                if (e[j] == j):\n",
    "                    e[j] = i\n",
    "        i += 1\n",
    "    return e"
   ]
  },
  {
   "cell_type": "code",
   "execution_count": null,
   "id": "7c83851a",
   "metadata": {},
   "outputs": [
    {
     "name": "stdout",
     "output_type": "stream",
     "text": [
      "10000\n",
      "126\n",
      "[2, 3, 3, 7]\n"
     ]
    }
   ],
   "source": [
    "n = int(input())\n",
    "e = eratos(n)\n",
    "#print(e)\n",
    "x = int(input())\n",
    "while x:\n",
    "    print(check(e, x))\n",
    "    x = int(input())"
   ]
  },
  {
   "cell_type": "markdown",
   "id": "c3bcdfd6",
   "metadata": {},
   "source": [
    "### Реализация алгоритма решета Эратосфена с хабра"
   ]
  },
  {
   "cell_type": "code",
   "execution_count": 64,
   "id": "7389e21f",
   "metadata": {},
   "outputs": [],
   "source": [
    "def sieve(n):\n",
    "    m = (n-1) // 2\n",
    "    b = [True]*m\n",
    "    i,p,ps = 0,3,[2]\n",
    "    while p*p < n:\n",
    "        if b[i]:\n",
    "            ps.append(p)\n",
    "            j = 2*i*i + 6*i + 3\n",
    "            while j < m:\n",
    "                b[j] = False\n",
    "                j = j + 2*i + 3\n",
    "        i+=1; p+=2\n",
    "    while i < m:\n",
    "        if b[i]:\n",
    "            ps.append(p)\n",
    "        i+=1; p+=2\n",
    "    return ps"
   ]
  },
  {
   "cell_type": "code",
   "execution_count": 66,
   "id": "d1574a23",
   "metadata": {},
   "outputs": [
    {
     "data": {
      "text/plain": [
       "[2, 3, 5, 7, 11, 13]"
      ]
     },
     "execution_count": 66,
     "metadata": {},
     "output_type": "execute_result"
    }
   ],
   "source": [
    "sieve(16)"
   ]
  }
 ],
 "metadata": {
  "kernelspec": {
   "display_name": "Python 3 (ipykernel)",
   "language": "python",
   "name": "python3"
  },
  "language_info": {
   "codemirror_mode": {
    "name": "ipython",
    "version": 3
   },
   "file_extension": ".py",
   "mimetype": "text/x-python",
   "name": "python",
   "nbconvert_exporter": "python",
   "pygments_lexer": "ipython3",
   "version": "3.7.1"
  }
 },
 "nbformat": 4,
 "nbformat_minor": 5
}
